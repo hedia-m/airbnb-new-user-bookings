{
 "cells": [
  {
   "cell_type": "code",
   "execution_count": 1,
   "metadata": {},
   "outputs": [],
   "source": [
    "import numpy as np\n",
    "import pandas as pd\n",
    "#\n",
    "sessions = pd.read_csv('./data/sessions.csv')"
   ]
  },
  {
   "cell_type": "code",
   "execution_count": 2,
   "metadata": {},
   "outputs": [],
   "source": [
    "sessions['secs_elapsed'] = sessions['secs_elapsed'].fillna(0.0)\n",
    "sessions = sessions.fillna('nan')\n",
    "sessions_grouped = sessions.groupby(['user_id'])"
   ]
  },
  {
   "cell_type": "code",
   "execution_count": 5,
   "metadata": {},
   "outputs": [],
   "source": [
    "var = np.var(sessions['secs_elapsed'])\n",
    "mean = np.mean(sessions['secs_elapsed'])\n",
    "sessions['secs_elapsed'] = (sessions['secs_elapsed'] - mean) / var\n",
    "    "
   ]
  },
  {
   "cell_type": "code",
   "execution_count": 6,
   "metadata": {},
   "outputs": [],
   "source": [
    "action_type = np.unique(sessions['action_type'].fillna('nan'), return_counts=True)\n",
    "action = np.unique(sessions['action'].fillna('nan'), return_counts=True)\n",
    "action_detail = np.unique(sessions['action_detail'].fillna('nan'), return_counts=True)\n",
    "devices = np.unique(sessions['device_type'].fillna('nan'), return_counts=True)"
   ]
  },
  {
   "cell_type": "code",
   "execution_count": 7,
   "metadata": {},
   "outputs": [],
   "source": [
    "action_deleted_rare = action[0][np.where(action[1] > 50)]"
   ]
  },
  {
   "cell_type": "code",
   "execution_count": 8,
   "metadata": {},
   "outputs": [],
   "source": [
    "def get_one_hot_representation(categories, add_other=False):\n",
    "    if add_other:\n",
    "        categories = np.concatenate((categories, ['OTHER']))\n",
    "    return dict(zip(categories, list(range(len(categories)))))"
   ]
  },
  {
   "cell_type": "code",
   "execution_count": 9,
   "metadata": {},
   "outputs": [],
   "source": [
    "one_hot_representations_sessions = {'action': get_one_hot_representation(action_deleted_rare, add_other=True), \n",
    "                                  'action_type': get_one_hot_representation(action_type[0]),\n",
    "                                  'action_detail': get_one_hot_representation(action_detail[0]),\n",
    "                                  'device_type': get_one_hot_representation(devices[0])}"
   ]
  },
  {
   "cell_type": "code",
   "execution_count": 10,
   "metadata": {},
   "outputs": [],
   "source": [
    "users = pd.read_csv('./data/train_users_2.csv')"
   ]
  },
  {
   "cell_type": "code",
   "execution_count": 11,
   "metadata": {},
   "outputs": [],
   "source": [
    "gender = np.unique(users['gender'])[1:]\n",
    "signup_method = np.unique(users['signup_method'])\n",
    "signup_flow = np.unique(users['signup_flow'])\n",
    "affiliate_channel = np.unique(users['affiliate_channel'])\n",
    "affiliate_provider = np.unique(users['affiliate_provider'])\n",
    "language = np.unique(users['language'])\n",
    "first_affiliate_tracked = np.unique(users['first_affiliate_tracked'].fillna('nan'))\n",
    "signup_app = np.unique(users['signup_app'])\n",
    "first_device_type = np.unique(users['first_device_type'])\n",
    "first_browser, counts_first_browser = np.unique(users['first_browser'], return_counts=True)\n",
    "first_browser = first_browser[np.where(counts_first_browser > 50)[0]]"
   ]
  },
  {
   "cell_type": "code",
   "execution_count": 12,
   "metadata": {},
   "outputs": [],
   "source": [
    "one_hot_representation = {\n",
    "    4: get_one_hot_representation(gender),\n",
    "    6: get_one_hot_representation(signup_method),\n",
    "    7: get_one_hot_representation(signup_flow),\n",
    "    8: get_one_hot_representation(language),\n",
    "    9: get_one_hot_representation(affiliate_channel),\n",
    "    10: get_one_hot_representation(affiliate_provider),\n",
    "    11: get_one_hot_representation(first_affiliate_tracked),\n",
    "    12: get_one_hot_representation(signup_app),\n",
    "    13: get_one_hot_representation(first_device_type),\n",
    "    14: get_one_hot_representation(first_browser, add_other=True),\n",
    "}"
   ]
  },
  {
   "cell_type": "code",
   "execution_count": 18,
   "metadata": {},
   "outputs": [
    {
     "name": "stderr",
     "output_type": "stream",
     "text": [
      "100%|██████████| 213451/213451 [00:28<00:00, 7498.09it/s]  \n"
     ]
    }
   ],
   "source": [
    "import importlib\n",
    "from tqdm import tqdm\n",
    "\n",
    "import data_process_lstm\n",
    "importlib.reload(data_process_lstm)\n",
    "nb = 0\n",
    "max_len = 0\n",
    "for user in tqdm(users.fillna('nan').values):\n",
    "    try:\n",
    "        sessions_user = sessions_grouped.get_group(user[0])\n",
    "        l = len(sessions_user)\n",
    "        if l > max_len:\n",
    "            max_len = l\n",
    "        if nb == 0:\n",
    "            u = data_process_lstm.data_processing_by_user_lstm(user, sessions_user, one_hot_representation, one_hot_representations_sessions)\n",
    "            d = np.array(u.features).shape\n",
    "        nb = nb + 1\n",
    "    except KeyError:\n",
    "        continue"
   ]
  },
  {
   "cell_type": "code",
   "execution_count": 19,
   "metadata": {},
   "outputs": [
    {
     "name": "stdout",
     "output_type": "stream",
     "text": [
      "73815 (127, 585) 2644\n"
     ]
    }
   ],
   "source": [
    "print(nb, d, max_len)"
   ]
  },
  {
   "cell_type": "code",
   "execution_count": 15,
   "metadata": {},
   "outputs": [
    {
     "ename": "MemoryError",
     "evalue": "",
     "output_type": "error",
     "traceback": [
      "\u001b[0;31m---------------------------------------------------------------------------\u001b[0m",
      "\u001b[0;31mMemoryError\u001b[0m                               Traceback (most recent call last)",
      "\u001b[0;32m<ipython-input-15-fc63c3154d21>\u001b[0m in \u001b[0;36m<module>\u001b[0;34m()\u001b[0m\n\u001b[1;32m      4\u001b[0m \u001b[0;32mimport\u001b[0m \u001b[0mdata_process_lstm\u001b[0m\u001b[0;34m\u001b[0m\u001b[0m\n\u001b[1;32m      5\u001b[0m \u001b[0mimportlib\u001b[0m\u001b[0;34m.\u001b[0m\u001b[0mreload\u001b[0m\u001b[0;34m(\u001b[0m\u001b[0mdata_process_lstm\u001b[0m\u001b[0;34m)\u001b[0m\u001b[0;34m\u001b[0m\u001b[0m\n\u001b[0;32m----> 6\u001b[0;31m \u001b[0mpreprocessed_users\u001b[0m \u001b[0;34m=\u001b[0m \u001b[0mnp\u001b[0m\u001b[0;34m.\u001b[0m\u001b[0mzeros\u001b[0m\u001b[0;34m(\u001b[0m\u001b[0;34m(\u001b[0m\u001b[0mnb\u001b[0m\u001b[0;34m,\u001b[0m \u001b[0md\u001b[0m\u001b[0;34m[\u001b[0m\u001b[0;36m1\u001b[0m\u001b[0;34m]\u001b[0m\u001b[0;34m)\u001b[0m\u001b[0;34m)\u001b[0m\u001b[0;34m\u001b[0m\u001b[0m\n\u001b[0m\u001b[1;32m      7\u001b[0m \u001b[0mlabels\u001b[0m \u001b[0;34m=\u001b[0m \u001b[0;34m[\u001b[0m\u001b[0;34m]\u001b[0m\u001b[0;34m\u001b[0m\u001b[0m\n\u001b[1;32m      8\u001b[0m \u001b[0mindex\u001b[0m \u001b[0;34m=\u001b[0m \u001b[0;34m[\u001b[0m\u001b[0;34m]\u001b[0m\u001b[0;34m\u001b[0m\u001b[0m\n",
      "\u001b[0;31mMemoryError\u001b[0m: "
     ]
    }
   ],
   "source": [
    "import importlib\n",
    "from tqdm import tqdm\n",
    "\n",
    "import data_process_lstm\n",
    "importlib.reload(data_process_lstm)\n",
    "preprocessed_users = np.zeros((nb, d[1]))\n",
    "labels = []\n",
    "index = []\n",
    "z = 0\n",
    "for user in tqdm(users.fillna('nan').values):\n",
    "    try:\n",
    "        sessions_user = sessions_grouped.get_group(user[0])\n",
    "        l = len(sessions_user)\n",
    "        u = data_process_lstm.data_processing_by_user_lstm(user, sessions_user, one_hot_representation, one_hot_representations_sessions)\n",
    "        if not np.isfinite(u.features).all():\n",
    "            print(user[0])\n",
    "            break\n",
    "        #print(len(features))\n",
    "        labels.append(user[-1])\n",
    "        preprocessed_users[z:l] = u.features\n",
    "        index.append(z)\n",
    "        z = z + l\n",
    "    except KeyError:\n",
    "        continue\n",
    "        #u = data_processing_user.data_processing_by_user(user, [], one_hot_representation, one_hot_representations_sessions)\n",
    "        #preprocessed_users.append(u.features)"
   ]
  },
  {
   "cell_type": "code",
   "execution_count": 18,
   "metadata": {},
   "outputs": [
    {
     "name": "stdout",
     "output_type": "stream",
     "text": [
      "5537957\n"
     ]
    }
   ],
   "source": [
    "print(nb)"
   ]
  },
  {
   "cell_type": "code",
   "execution_count": 62,
   "metadata": {},
   "outputs": [],
   "source": [
    "preprocesses_users = []\n",
    "labels = []\n",
    "index = []"
   ]
  },
  {
   "cell_type": "code",
   "execution_count": 64,
   "metadata": {},
   "outputs": [],
   "source": [
    "var = np.var(times)\n",
    "mu = np.mean(times)\n",
    "times = (times - mu) / var"
   ]
  },
  {
   "cell_type": "code",
   "execution_count": 58,
   "metadata": {},
   "outputs": [
    {
     "data": {
      "text/plain": [
       "-1.0"
      ]
     },
     "execution_count": 58,
     "metadata": {},
     "output_type": "execute_result"
    }
   ],
   "source": [
    "np.min(times)"
   ]
  },
  {
   "cell_type": "code",
   "execution_count": 50,
   "metadata": {},
   "outputs": [
    {
     "data": {
      "image/png": "[encoded data removed]",
      "text/plain": [
       "<Figure size 432x288 with 1 Axes>"
      ]
     },
     "metadata": {},
     "output_type": "display_data"
    }
   ],
   "source": [
    "import matplotlib.pyplot as plt\n",
    "import numpy as np\n",
    "import matplotlib.mlab as mlab\n",
    "import math\n",
    "\n",
    "plt.show()"
   ]
  },
  {
   "cell_type": "code",
   "execution_count": 23,
   "metadata": {},
   "outputs": [
    {
     "name": "stdout",
     "output_type": "stream",
     "text": [
      "135484 135484\n",
      "10567737\n"
     ]
    }
   ],
   "source": [
    "print(len(users_session[0]), len(users_session[1]))\n",
    "print(len(sessions))"
   ]
  }
 ],
 "metadata": {
  "kernelspec": {
   "display_name": "Python 3",
   "language": "python",
   "name": "python3"
  },
  "language_info": {
   "codemirror_mode": {
    "name": "ipython",
    "version": 3
   },
   "file_extension": ".py",
   "mimetype": "text/x-python",
   "name": "python",
   "nbconvert_exporter": "python",
   "pygments_lexer": "ipython3",
   "version": "3.6.5"
  }
 },
 "nbformat": 4,
 "nbformat_minor": 2
}
